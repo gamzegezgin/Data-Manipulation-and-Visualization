{
 "cells": [
  {
   "cell_type": "markdown",
   "id": "406a3b76-d20b-4ad1-998b-8120fe7acab8",
   "metadata": {},
   "source": [
    "# Neden NupmPy?"
   ]
  },
  {
   "cell_type": "code",
   "execution_count": 9,
   "id": "090994a2-934d-4f11-88f6-04a7ce29db27",
   "metadata": {},
   "outputs": [],
   "source": [
    "a = [1,2,3,4]\n",
    "b = [2,3,4,5]"
   ]
  },
  {
   "cell_type": "code",
   "execution_count": 11,
   "id": "13ffb1e5-23cf-4576-9abc-f2b27ef234eb",
   "metadata": {},
   "outputs": [
    {
     "data": {
      "text/plain": [
       "[2, 6, 12, 20]"
      ]
     },
     "execution_count": 11,
     "metadata": {},
     "output_type": "execute_result"
    }
   ],
   "source": [
    "ab = []\n",
    "\n",
    "for i in range(0, len(a)):\n",
    "    ab.append(a[i]*b[i])\n",
    "ab"
   ]
  },
  {
   "cell_type": "code",
   "execution_count": 3,
   "id": "79222dc4-163a-4ae3-8083-706137363ea2",
   "metadata": {},
   "outputs": [],
   "source": [
    "import numpy as np"
   ]
  },
  {
   "cell_type": "code",
   "execution_count": 17,
   "id": "1d1fdbf7-a402-4a0f-879b-d035e38533aa",
   "metadata": {},
   "outputs": [
    {
     "name": "stdout",
     "output_type": "stream",
     "text": [
      "[ 2  6 12 20]\n"
     ]
    }
   ],
   "source": [
    "a = np.array([1,2,3,4])\n",
    "b = np.array([2,3,4,5])\n",
    "print(a*b)"
   ]
  },
  {
   "cell_type": "code",
   "execution_count": 15,
   "id": "92df737c-11d4-4f57-9d3e-d858d8ffe7c9",
   "metadata": {},
   "outputs": [],
   "source": [
    "k = np.array([1,2,3])"
   ]
  },
  {
   "cell_type": "code",
   "execution_count": 17,
   "id": "66265fcb-e4ea-406b-9e3c-c0920ff0fe54",
   "metadata": {},
   "outputs": [
    {
     "data": {
      "text/plain": [
       "array([1, 2, 3])"
      ]
     },
     "execution_count": 17,
     "metadata": {},
     "output_type": "execute_result"
    }
   ],
   "source": [
    "k"
   ]
  },
  {
   "cell_type": "code",
   "execution_count": 19,
   "id": "cace94e7-fc04-4ac8-88a8-d6c3c12402d8",
   "metadata": {},
   "outputs": [
    {
     "data": {
      "text/plain": [
       "numpy.ndarray"
      ]
     },
     "execution_count": 19,
     "metadata": {},
     "output_type": "execute_result"
    }
   ],
   "source": [
    "type(k)"
   ]
  },
  {
   "cell_type": "code",
   "execution_count": 27,
   "id": "a3ce1f95-9a0a-442a-b87f-8e59ef8673ea",
   "metadata": {},
   "outputs": [],
   "source": [
    "m = np.array([3.33, 3, 3, 5,7], dtype= \"int\")"
   ]
  },
  {
   "cell_type": "code",
   "execution_count": 29,
   "id": "3a8ab5d3-00d6-40f7-8fb4-a1f6f8a7bcab",
   "metadata": {},
   "outputs": [
    {
     "data": {
      "text/plain": [
       "array([3, 3, 3, 5, 7])"
      ]
     },
     "execution_count": 29,
     "metadata": {},
     "output_type": "execute_result"
    }
   ],
   "source": [
    "m"
   ]
  },
  {
   "cell_type": "code",
   "execution_count": 31,
   "id": "e4039b4f-af57-4345-a59e-22f8255a735c",
   "metadata": {},
   "outputs": [],
   "source": [
    "#sıfırdan array oluşturma"
   ]
  },
  {
   "cell_type": "code",
   "execution_count": 35,
   "id": "b1e55145-941a-4dae-96d8-91ecf4d86be4",
   "metadata": {},
   "outputs": [
    {
     "data": {
      "text/plain": [
       "array([0, 0, 0, 0, 0, 0, 0, 0, 0, 0])"
      ]
     },
     "execution_count": 35,
     "metadata": {},
     "output_type": "execute_result"
    }
   ],
   "source": [
    "np.zeros(10, dtype=\"int\")"
   ]
  },
  {
   "cell_type": "code",
   "execution_count": 39,
   "id": "b1ee0f39-d4d5-4b44-ad8d-0947d07f020e",
   "metadata": {},
   "outputs": [
    {
     "data": {
      "text/plain": [
       "array([[1, 1, 1, 1],\n",
       "       [1, 1, 1, 1],\n",
       "       [1, 1, 1, 1],\n",
       "       [1, 1, 1, 1],\n",
       "       [1, 1, 1, 1]])"
      ]
     },
     "execution_count": 39,
     "metadata": {},
     "output_type": "execute_result"
    }
   ],
   "source": [
    "np.ones((5,4), dtype=\"int\")"
   ]
  },
  {
   "cell_type": "code",
   "execution_count": 43,
   "id": "f8b578f6-9b94-4c79-a6e7-a14a6c605d80",
   "metadata": {},
   "outputs": [
    {
     "data": {
      "text/plain": [
       "array([[3., 3., 3., 3., 3.],\n",
       "       [3., 3., 3., 3., 3.],\n",
       "       [3., 3., 3., 3., 3.]])"
      ]
     },
     "execution_count": 43,
     "metadata": {},
     "output_type": "execute_result"
    }
   ],
   "source": [
    "np.full((3,5), 3, dtype=\"float\")"
   ]
  },
  {
   "cell_type": "code",
   "execution_count": 47,
   "id": "ede1166c-0873-4d11-992b-83d6dedc23ce",
   "metadata": {},
   "outputs": [
    {
     "data": {
      "text/plain": [
       "array([ 0,  3,  6,  9, 12, 15, 18, 21, 24, 27, 30])"
      ]
     },
     "execution_count": 47,
     "metadata": {},
     "output_type": "execute_result"
    }
   ],
   "source": [
    "np.arange(0, 31, 3)"
   ]
  },
  {
   "cell_type": "code",
   "execution_count": 49,
   "id": "61eb3004-cf0c-465c-9a17-b2db1d8a86d6",
   "metadata": {},
   "outputs": [
    {
     "data": {
      "text/plain": [
       "array([0.        , 0.11111111, 0.22222222, 0.33333333, 0.44444444,\n",
       "       0.55555556, 0.66666667, 0.77777778, 0.88888889, 1.        ])"
      ]
     },
     "execution_count": 49,
     "metadata": {},
     "output_type": "execute_result"
    }
   ],
   "source": [
    "np.linspace(0,1,10)"
   ]
  },
  {
   "cell_type": "code",
   "execution_count": 51,
   "id": "81dbe838-7f62-4cc2-8438-1cee5322d273",
   "metadata": {},
   "outputs": [
    {
     "data": {
      "text/plain": [
       "array([[ 7.15886131, 12.61856948, 15.10089111,  8.93639288],\n",
       "       [ 8.95672572, 10.653472  , 10.25664373, 12.39386958],\n",
       "       [ 5.93626297,  8.46714832, 14.55941974,  6.94637075]])"
      ]
     },
     "execution_count": 51,
     "metadata": {},
     "output_type": "execute_result"
    }
   ],
   "source": [
    "np.random.normal(10, 4, (3,4))"
   ]
  },
  {
   "cell_type": "code",
   "execution_count": 53,
   "id": "1cee622b-d8e7-4e8d-872e-07740744b766",
   "metadata": {},
   "outputs": [
    {
     "data": {
      "text/plain": [
       "array([[3, 9, 9],\n",
       "       [0, 0, 2],\n",
       "       [1, 5, 4]])"
      ]
     },
     "execution_count": 53,
     "metadata": {},
     "output_type": "execute_result"
    }
   ],
   "source": [
    "np.random.randint(0,10, (3,3))"
   ]
  },
  {
   "cell_type": "markdown",
   "id": "27148543-c4c2-434b-a1ea-feae1adfa94d",
   "metadata": {},
   "source": [
    "* **ndim:** _boyut sayısı_\n",
    "* **shape:** _boyut bilgisi_\n",
    "* **size:** _toplam eleman sayısı_\n",
    "* **dtype:** _array veri tipi_"
   ]
  },
  {
   "cell_type": "code",
   "execution_count": 85,
   "id": "991780f9-7422-442f-bff9-e2f792fa9e8f",
   "metadata": {},
   "outputs": [],
   "source": [
    "a = np.random.randint(0,10, size=10)"
   ]
  },
  {
   "cell_type": "code",
   "execution_count": 87,
   "id": "491d6667-2d92-4f15-b5e4-d7381b01bfc9",
   "metadata": {},
   "outputs": [
    {
     "data": {
      "text/plain": [
       "array([2, 9, 8, 4, 4, 8, 0, 3, 9, 2])"
      ]
     },
     "execution_count": 87,
     "metadata": {},
     "output_type": "execute_result"
    }
   ],
   "source": [
    "a"
   ]
  },
  {
   "cell_type": "code",
   "execution_count": 89,
   "id": "7d9ff289-9752-457b-877f-a444ddc3edf6",
   "metadata": {},
   "outputs": [
    {
     "data": {
      "text/plain": [
       "1"
      ]
     },
     "execution_count": 89,
     "metadata": {},
     "output_type": "execute_result"
    }
   ],
   "source": [
    "a.ndim"
   ]
  },
  {
   "cell_type": "code",
   "execution_count": 91,
   "id": "194cfc05-65ee-4951-b2ac-154a76045f2d",
   "metadata": {},
   "outputs": [
    {
     "data": {
      "text/plain": [
       "(10,)"
      ]
     },
     "execution_count": 91,
     "metadata": {},
     "output_type": "execute_result"
    }
   ],
   "source": [
    "a.shape"
   ]
  },
  {
   "cell_type": "code",
   "execution_count": 93,
   "id": "89ecd966-20c0-4335-a38a-a8b6850290f0",
   "metadata": {},
   "outputs": [
    {
     "data": {
      "text/plain": [
       "10"
      ]
     },
     "execution_count": 93,
     "metadata": {},
     "output_type": "execute_result"
    }
   ],
   "source": [
    "a.size"
   ]
  },
  {
   "cell_type": "code",
   "execution_count": 95,
   "id": "4e014003-cc69-4f8c-add6-b53868094083",
   "metadata": {},
   "outputs": [
    {
     "data": {
      "text/plain": [
       "dtype('int32')"
      ]
     },
     "execution_count": 95,
     "metadata": {},
     "output_type": "execute_result"
    }
   ],
   "source": [
    "a.dtype"
   ]
  },
  {
   "cell_type": "code",
   "execution_count": 101,
   "id": "a99fb88f-0b22-44b1-a58f-c44d356df581",
   "metadata": {},
   "outputs": [],
   "source": [
    "b = np.random.randint(10, size=(3,2))"
   ]
  },
  {
   "cell_type": "code",
   "execution_count": 103,
   "id": "6a9f7706-6c59-4c14-a418-535fc14f4c39",
   "metadata": {},
   "outputs": [
    {
     "data": {
      "text/plain": [
       "array([[8, 2],\n",
       "       [4, 7],\n",
       "       [5, 7]])"
      ]
     },
     "execution_count": 103,
     "metadata": {},
     "output_type": "execute_result"
    }
   ],
   "source": [
    "b"
   ]
  },
  {
   "cell_type": "code",
   "execution_count": 105,
   "id": "12bb1ca1-ad23-4ab0-bf46-71d7bae8fb8a",
   "metadata": {},
   "outputs": [
    {
     "data": {
      "text/plain": [
       "2"
      ]
     },
     "execution_count": 105,
     "metadata": {},
     "output_type": "execute_result"
    }
   ],
   "source": [
    "b.ndim"
   ]
  },
  {
   "cell_type": "code",
   "execution_count": 107,
   "id": "c17814c3-1593-4d45-b80b-9e55861febad",
   "metadata": {},
   "outputs": [
    {
     "data": {
      "text/plain": [
       "(3, 2)"
      ]
     },
     "execution_count": 107,
     "metadata": {},
     "output_type": "execute_result"
    }
   ],
   "source": [
    "b.shape"
   ]
  },
  {
   "cell_type": "code",
   "execution_count": 109,
   "id": "bbce860a-cebe-4ccd-a0fc-0dfe2bd1f289",
   "metadata": {},
   "outputs": [
    {
     "data": {
      "text/plain": [
       "6"
      ]
     },
     "execution_count": 109,
     "metadata": {},
     "output_type": "execute_result"
    }
   ],
   "source": [
    "b.size"
   ]
  },
  {
   "cell_type": "code",
   "execution_count": 111,
   "id": "b33fb47e-a800-4d2b-af66-db4f73253efc",
   "metadata": {},
   "outputs": [
    {
     "data": {
      "text/plain": [
       "dtype('int32')"
      ]
     },
     "execution_count": 111,
     "metadata": {},
     "output_type": "execute_result"
    }
   ],
   "source": [
    "b.dtype"
   ]
  },
  {
   "cell_type": "markdown",
   "id": "2e03cb09-b35f-4a23-a2bf-3db80f817169",
   "metadata": {},
   "source": [
    "* **reshape**"
   ]
  },
  {
   "cell_type": "code",
   "execution_count": 11,
   "id": "c7efe51b-53bb-4420-907b-b6177c0b41e2",
   "metadata": {},
   "outputs": [
    {
     "data": {
      "text/plain": [
       "array([1, 2, 3, 4, 5, 6, 7, 8, 9])"
      ]
     },
     "execution_count": 11,
     "metadata": {},
     "output_type": "execute_result"
    }
   ],
   "source": [
    "np.arange(1,10)"
   ]
  },
  {
   "cell_type": "code",
   "execution_count": 36,
   "id": "5aff81b9-f998-46c5-8c8e-b9a925d802b4",
   "metadata": {},
   "outputs": [],
   "source": [
    "c=np.arange(1,10).reshape((3,3))"
   ]
  },
  {
   "cell_type": "code",
   "execution_count": 38,
   "id": "215e6160-f3df-44ea-b74f-2f0d222f28ff",
   "metadata": {},
   "outputs": [
    {
     "data": {
      "text/plain": [
       "2"
      ]
     },
     "execution_count": 38,
     "metadata": {},
     "output_type": "execute_result"
    }
   ],
   "source": [
    "c.ndim"
   ]
  },
  {
   "cell_type": "code",
   "execution_count": 23,
   "id": "3b178289-3ec6-465e-a359-b8bf67b5ac02",
   "metadata": {},
   "outputs": [],
   "source": [
    "a =np.arange(1,10)"
   ]
  },
  {
   "cell_type": "code",
   "execution_count": 25,
   "id": "6bd7cc86-b52e-43ad-8e4a-dfb55c51abb9",
   "metadata": {},
   "outputs": [
    {
     "data": {
      "text/plain": [
       "1"
      ]
     },
     "execution_count": 25,
     "metadata": {},
     "output_type": "execute_result"
    }
   ],
   "source": [
    "a.ndim"
   ]
  },
  {
   "cell_type": "code",
   "execution_count": 31,
   "id": "a1aa1fb0-2fa4-40fe-a070-b14a47f3dd96",
   "metadata": {},
   "outputs": [],
   "source": [
    "b=a.reshape((1,9))"
   ]
  },
  {
   "cell_type": "code",
   "execution_count": 34,
   "id": "dda7016a-1bd0-4566-8135-2ca1850626a9",
   "metadata": {},
   "outputs": [
    {
     "data": {
      "text/plain": [
       "2"
      ]
     },
     "execution_count": 34,
     "metadata": {},
     "output_type": "execute_result"
    }
   ],
   "source": [
    "b.ndim"
   ]
  },
  {
   "cell_type": "code",
   "execution_count": 40,
   "id": "9047b444-dc4e-4713-86ad-276682bba4bf",
   "metadata": {},
   "outputs": [],
   "source": [
    "x = np.array([1,2,3])\n",
    "y = np.array([4,5,6])"
   ]
  },
  {
   "cell_type": "code",
   "execution_count": 44,
   "id": "df112f14-1cf4-41a8-86a0-1399e13e2d81",
   "metadata": {},
   "outputs": [
    {
     "data": {
      "text/plain": [
       "array([1, 2, 3, 4, 5, 6])"
      ]
     },
     "execution_count": 44,
     "metadata": {},
     "output_type": "execute_result"
    }
   ],
   "source": [
    "np.concatenate([x,y])"
   ]
  },
  {
   "cell_type": "code",
   "execution_count": 46,
   "id": "5ac889b1-cb15-49f9-8a65-1f3d41d2b9bb",
   "metadata": {},
   "outputs": [],
   "source": [
    "z = np.array([7,8,9])"
   ]
  },
  {
   "cell_type": "code",
   "execution_count": 48,
   "id": "1136b8bd-0b9b-4146-a39b-01907dd76256",
   "metadata": {},
   "outputs": [
    {
     "data": {
      "text/plain": [
       "array([1, 2, 3, 4, 5, 6, 7, 8, 9])"
      ]
     },
     "execution_count": 48,
     "metadata": {},
     "output_type": "execute_result"
    }
   ],
   "source": [
    "np.concatenate([x,y,z])"
   ]
  },
  {
   "cell_type": "code",
   "execution_count": 50,
   "id": "836367b1-3967-4616-85db-7c5425770958",
   "metadata": {},
   "outputs": [],
   "source": [
    "#iki boyut"
   ]
  },
  {
   "cell_type": "code",
   "execution_count": 53,
   "id": "94da8fc1-189e-4dd9-9693-6c3baa39c263",
   "metadata": {},
   "outputs": [],
   "source": [
    "a= np.array([[1,2,3],\n",
    "             [4,5,6]])"
   ]
  },
  {
   "cell_type": "code",
   "execution_count": 55,
   "id": "5e2a11fa-90b6-42ff-8925-3e2574c2b758",
   "metadata": {},
   "outputs": [
    {
     "data": {
      "text/plain": [
       "array([[1, 2, 3],\n",
       "       [4, 5, 6]])"
      ]
     },
     "execution_count": 55,
     "metadata": {},
     "output_type": "execute_result"
    }
   ],
   "source": [
    "a"
   ]
  },
  {
   "cell_type": "code",
   "execution_count": 57,
   "id": "2c7a88d9-bb48-4c9c-80ec-41f9a1ec9bfc",
   "metadata": {},
   "outputs": [
    {
     "data": {
      "text/plain": [
       "array([[1, 2, 3],\n",
       "       [4, 5, 6],\n",
       "       [1, 2, 3],\n",
       "       [4, 5, 6]])"
      ]
     },
     "execution_count": 57,
     "metadata": {},
     "output_type": "execute_result"
    }
   ],
   "source": [
    "np.concatenate([a,a])"
   ]
  },
  {
   "cell_type": "code",
   "execution_count": 61,
   "id": "644ce92d-6599-4ca5-8130-62d916f44931",
   "metadata": {},
   "outputs": [
    {
     "data": {
      "text/plain": [
       "array([[1, 2, 3, 1, 2, 3],\n",
       "       [4, 5, 6, 4, 5, 6]])"
      ]
     },
     "execution_count": 61,
     "metadata": {},
     "output_type": "execute_result"
    }
   ],
   "source": [
    "np.concatenate([a,a], axis=1)"
   ]
  },
  {
   "cell_type": "markdown",
   "id": "93ea70ef-02b3-4f98-b14b-524f8278c276",
   "metadata": {},
   "source": [
    "* **splitting**"
   ]
  },
  {
   "cell_type": "code",
   "execution_count": 71,
   "id": "385920a9-08c3-49ac-acf8-184a263c8ae4",
   "metadata": {},
   "outputs": [],
   "source": [
    "x = np.array([1,2,3,45,67,66,0,5])"
   ]
  },
  {
   "cell_type": "code",
   "execution_count": 75,
   "id": "9beb87bb-07c3-4ea4-a77d-0b4ca9a935f9",
   "metadata": {},
   "outputs": [
    {
     "data": {
      "text/plain": [
       "[array([1, 2, 3]), array([45, 67]), array([66,  0,  5])]"
      ]
     },
     "execution_count": 75,
     "metadata": {},
     "output_type": "execute_result"
    }
   ],
   "source": [
    "np.split(x, [3,5])"
   ]
  },
  {
   "cell_type": "code",
   "execution_count": 77,
   "id": "e296d2d3-e060-45fe-9093-9cb7ce9aa111",
   "metadata": {},
   "outputs": [],
   "source": [
    "a,b,c = np.split(x, [3,5])"
   ]
  },
  {
   "cell_type": "code",
   "execution_count": 79,
   "id": "a0fe6f96-208b-44bb-b1d1-b2e4228d9607",
   "metadata": {},
   "outputs": [
    {
     "data": {
      "text/plain": [
       "array([1, 2, 3])"
      ]
     },
     "execution_count": 79,
     "metadata": {},
     "output_type": "execute_result"
    }
   ],
   "source": [
    "a"
   ]
  },
  {
   "cell_type": "code",
   "execution_count": 81,
   "id": "24d88fa2-118c-4fa7-a5d8-e0cf517ce6e7",
   "metadata": {},
   "outputs": [
    {
     "data": {
      "text/plain": [
       "array([45, 67])"
      ]
     },
     "execution_count": 81,
     "metadata": {},
     "output_type": "execute_result"
    }
   ],
   "source": [
    "b"
   ]
  },
  {
   "cell_type": "code",
   "execution_count": 83,
   "id": "0347b8fa-2b42-4b4b-8b3b-d493bbea2dea",
   "metadata": {},
   "outputs": [
    {
     "data": {
      "text/plain": [
       "array([66,  0,  5])"
      ]
     },
     "execution_count": 83,
     "metadata": {},
     "output_type": "execute_result"
    }
   ],
   "source": [
    "c"
   ]
  },
  {
   "cell_type": "code",
   "execution_count": 85,
   "id": "4df15115-5366-4c61-b757-b479a66d1b09",
   "metadata": {},
   "outputs": [],
   "source": [
    "#iki boyutlu ayırma"
   ]
  },
  {
   "cell_type": "code",
   "execution_count": 90,
   "id": "3d0521ed-54b9-4e20-a071-34aec91d4af8",
   "metadata": {},
   "outputs": [],
   "source": [
    "n = np.random.randint(16, size=(5,4))"
   ]
  },
  {
   "cell_type": "code",
   "execution_count": 92,
   "id": "af235535-0fa9-40a0-9475-eb6a68565d01",
   "metadata": {},
   "outputs": [
    {
     "data": {
      "text/plain": [
       "array([[10,  1,  0,  2],\n",
       "       [ 7, 12,  0,  6],\n",
       "       [ 4,  5, 12, 11],\n",
       "       [11,  8,  9,  9],\n",
       "       [14,  4, 11,  1]])"
      ]
     },
     "execution_count": 92,
     "metadata": {},
     "output_type": "execute_result"
    }
   ],
   "source": [
    "n"
   ]
  },
  {
   "cell_type": "code",
   "execution_count": 95,
   "id": "a13ec4c3-c2b8-482a-b851-4f8abced9fc8",
   "metadata": {},
   "outputs": [],
   "source": [
    "#ya da"
   ]
  },
  {
   "cell_type": "code",
   "execution_count": 103,
   "id": "69dfe063-20d8-45c0-b154-88ff6f02db5a",
   "metadata": {},
   "outputs": [
    {
     "data": {
      "text/plain": [
       "array([[ 0,  1,  2,  3],\n",
       "       [ 4,  5,  6,  7],\n",
       "       [ 8,  9, 10, 11],\n",
       "       [12, 13, 14, 15]])"
      ]
     },
     "execution_count": 103,
     "metadata": {},
     "output_type": "execute_result"
    }
   ],
   "source": [
    "m = np.arange(16).reshape(4,4)\n",
    "m"
   ]
  },
  {
   "cell_type": "code",
   "execution_count": 105,
   "id": "4e08ae8a-a74c-4988-b6e2-776b5b587144",
   "metadata": {},
   "outputs": [
    {
     "data": {
      "text/plain": [
       "[array([[0, 1, 2, 3],\n",
       "        [4, 5, 6, 7]]),\n",
       " array([[ 8,  9, 10, 11],\n",
       "        [12, 13, 14, 15]])]"
      ]
     },
     "execution_count": 105,
     "metadata": {},
     "output_type": "execute_result"
    }
   ],
   "source": [
    "np.vsplit(m, [2])"
   ]
  },
  {
   "cell_type": "code",
   "execution_count": 107,
   "id": "6186c6ad-5cf3-4357-8fcd-92baa262c4c6",
   "metadata": {},
   "outputs": [],
   "source": [
    "üst, alt = np.vsplit(m, [2])"
   ]
  },
  {
   "cell_type": "code",
   "execution_count": 109,
   "id": "1074125e-10b1-46e7-870e-657bc16552a3",
   "metadata": {},
   "outputs": [
    {
     "data": {
      "text/plain": [
       "array([[0, 1, 2, 3],\n",
       "       [4, 5, 6, 7]])"
      ]
     },
     "execution_count": 109,
     "metadata": {},
     "output_type": "execute_result"
    }
   ],
   "source": [
    "üst"
   ]
  },
  {
   "cell_type": "code",
   "execution_count": 111,
   "id": "59ad6c62-5683-41ed-82bc-f92b954c9f46",
   "metadata": {},
   "outputs": [
    {
     "data": {
      "text/plain": [
       "array([[ 8,  9, 10, 11],\n",
       "       [12, 13, 14, 15]])"
      ]
     },
     "execution_count": 111,
     "metadata": {},
     "output_type": "execute_result"
    }
   ],
   "source": [
    "alt"
   ]
  },
  {
   "cell_type": "code",
   "execution_count": 113,
   "id": "690a2b74-cb08-43f6-8366-dc85c9d0fee9",
   "metadata": {},
   "outputs": [
    {
     "data": {
      "text/plain": [
       "array([[ 0,  1,  2,  3],\n",
       "       [ 4,  5,  6,  7],\n",
       "       [ 8,  9, 10, 11],\n",
       "       [12, 13, 14, 15]])"
      ]
     },
     "execution_count": 113,
     "metadata": {},
     "output_type": "execute_result"
    }
   ],
   "source": [
    "m"
   ]
  },
  {
   "cell_type": "code",
   "execution_count": 115,
   "id": "6536625a-37e6-42d0-95ba-1e1f39f6e022",
   "metadata": {},
   "outputs": [
    {
     "data": {
      "text/plain": [
       "[array([[ 0,  1],\n",
       "        [ 4,  5],\n",
       "        [ 8,  9],\n",
       "        [12, 13]]),\n",
       " array([[ 2,  3],\n",
       "        [ 6,  7],\n",
       "        [10, 11],\n",
       "        [14, 15]])]"
      ]
     },
     "execution_count": 115,
     "metadata": {},
     "output_type": "execute_result"
    }
   ],
   "source": [
    "np.hsplit(m, [2])"
   ]
  },
  {
   "cell_type": "code",
   "execution_count": 117,
   "id": "2575b45a-e4b1-4dd5-b7cc-401c2d6d2504",
   "metadata": {},
   "outputs": [],
   "source": [
    "sag, sol = np.hsplit(m, [2])"
   ]
  },
  {
   "cell_type": "code",
   "execution_count": 119,
   "id": "12e14e84-a931-43c3-aad0-bd390cf2c14d",
   "metadata": {},
   "outputs": [
    {
     "data": {
      "text/plain": [
       "array([[ 0,  1],\n",
       "       [ 4,  5],\n",
       "       [ 8,  9],\n",
       "       [12, 13]])"
      ]
     },
     "execution_count": 119,
     "metadata": {},
     "output_type": "execute_result"
    }
   ],
   "source": [
    "sag"
   ]
  },
  {
   "cell_type": "code",
   "execution_count": 121,
   "id": "4f94c3a1-200e-4be8-b6f2-87ae6cb85be3",
   "metadata": {},
   "outputs": [
    {
     "data": {
      "text/plain": [
       "array([[ 2,  3],\n",
       "       [ 6,  7],\n",
       "       [10, 11],\n",
       "       [14, 15]])"
      ]
     },
     "execution_count": 121,
     "metadata": {},
     "output_type": "execute_result"
    }
   ],
   "source": [
    "sol"
   ]
  },
  {
   "cell_type": "markdown",
   "id": "790195f0-7dd1-41f3-b541-72e09a018b57",
   "metadata": {},
   "source": [
    "* **splitting**"
   ]
  },
  {
   "cell_type": "code",
   "execution_count": 124,
   "id": "c352afdc-e8bd-4f4b-b857-33e9f47ad935",
   "metadata": {},
   "outputs": [],
   "source": [
    "v= np.array([1,4,7,324,3])"
   ]
  },
  {
   "cell_type": "code",
   "execution_count": 126,
   "id": "b3bfa44c-a5b3-4bb8-b08f-c5984f20fc71",
   "metadata": {},
   "outputs": [
    {
     "data": {
      "text/plain": [
       "array([  1,   3,   4,   7, 324])"
      ]
     },
     "execution_count": 126,
     "metadata": {},
     "output_type": "execute_result"
    }
   ],
   "source": [
    "np.sort(v)"
   ]
  },
  {
   "cell_type": "code",
   "execution_count": 134,
   "id": "cd480c56-b156-4cf3-b3c4-abb58a03b7c5",
   "metadata": {},
   "outputs": [],
   "source": [
    "#veri seti kalıcı sıralandı\n",
    "v.sort()"
   ]
  },
  {
   "cell_type": "code",
   "execution_count": 130,
   "id": "a501d73d-0366-42a7-a905-db6c9536b1bb",
   "metadata": {},
   "outputs": [
    {
     "data": {
      "text/plain": [
       "array([  1,   3,   4,   7, 324])"
      ]
     },
     "execution_count": 130,
     "metadata": {},
     "output_type": "execute_result"
    }
   ],
   "source": [
    "v"
   ]
  },
  {
   "cell_type": "code",
   "execution_count": 132,
   "id": "db989a0d-c3d6-418f-919c-a6551ce27391",
   "metadata": {},
   "outputs": [
    {
     "data": {
      "text/plain": [
       "array([  1,   3,   4,   7, 324])"
      ]
     },
     "execution_count": 132,
     "metadata": {},
     "output_type": "execute_result"
    }
   ],
   "source": [
    "v"
   ]
  },
  {
   "cell_type": "code",
   "execution_count": 136,
   "id": "568788e4-cbac-4f56-8c0c-dd3f871f0784",
   "metadata": {},
   "outputs": [],
   "source": [
    "# iki boyutlu sorting"
   ]
  },
  {
   "cell_type": "code",
   "execution_count": 5,
   "id": "01c2dc55-d6ce-4a15-ace3-239508adae7b",
   "metadata": {},
   "outputs": [],
   "source": [
    "t = np.random.randint(15, size=(5,3))"
   ]
  },
  {
   "cell_type": "code",
   "execution_count": 7,
   "id": "1ae29a10-94fe-4b38-967d-1672c1164c19",
   "metadata": {},
   "outputs": [
    {
     "data": {
      "text/plain": [
       "array([[ 7,  6,  3],\n",
       "       [12,  1,  4],\n",
       "       [ 0,  0,  0],\n",
       "       [ 0,  3,  9],\n",
       "       [ 7,  1,  1]])"
      ]
     },
     "execution_count": 7,
     "metadata": {},
     "output_type": "execute_result"
    }
   ],
   "source": [
    "t"
   ]
  },
  {
   "cell_type": "code",
   "execution_count": 9,
   "id": "22df93e2-cfb4-445c-a740-e13caf528f57",
   "metadata": {},
   "outputs": [
    {
     "data": {
      "text/plain": [
       "array([[ 3,  6,  7],\n",
       "       [ 1,  4, 12],\n",
       "       [ 0,  0,  0],\n",
       "       [ 0,  3,  9],\n",
       "       [ 1,  1,  7]])"
      ]
     },
     "execution_count": 9,
     "metadata": {},
     "output_type": "execute_result"
    }
   ],
   "source": [
    "np.sort(t)"
   ]
  },
  {
   "cell_type": "code",
   "execution_count": 11,
   "id": "51ebd8b7-14e8-4016-82ce-20ea27ee8cc8",
   "metadata": {},
   "outputs": [
    {
     "data": {
      "text/plain": [
       "array([[ 3,  6,  7],\n",
       "       [ 1,  4, 12],\n",
       "       [ 0,  0,  0],\n",
       "       [ 0,  3,  9],\n",
       "       [ 1,  1,  7]])"
      ]
     },
     "execution_count": 11,
     "metadata": {},
     "output_type": "execute_result"
    }
   ],
   "source": [
    "np.sort(t, axis=1)"
   ]
  },
  {
   "cell_type": "code",
   "execution_count": 13,
   "id": "85d95c66-b4e6-41a1-9a7b-02f2af165ced",
   "metadata": {},
   "outputs": [
    {
     "data": {
      "text/plain": [
       "array([[ 0,  0,  0],\n",
       "       [ 0,  1,  1],\n",
       "       [ 7,  1,  3],\n",
       "       [ 7,  3,  4],\n",
       "       [12,  6,  9]])"
      ]
     },
     "execution_count": 13,
     "metadata": {},
     "output_type": "execute_result"
    }
   ],
   "source": [
    "np.sort(t, axis=0)"
   ]
  },
  {
   "cell_type": "code",
   "execution_count": 15,
   "id": "b99df36d-9abe-437f-beed-bbadbdea6155",
   "metadata": {},
   "outputs": [],
   "source": [
    "a = np.random.randint(10, size=10)"
   ]
  },
  {
   "cell_type": "code",
   "execution_count": 17,
   "id": "c28a9ac0-f6cf-4dd6-841f-3fa6e0cccf2c",
   "metadata": {},
   "outputs": [
    {
     "data": {
      "text/plain": [
       "array([1, 8, 8, 7, 9, 4, 5, 0, 1, 8])"
      ]
     },
     "execution_count": 17,
     "metadata": {},
     "output_type": "execute_result"
    }
   ],
   "source": [
    "a"
   ]
  },
  {
   "cell_type": "code",
   "execution_count": 19,
   "id": "cd90d41c-2400-4317-8d04-62a21974d042",
   "metadata": {},
   "outputs": [
    {
     "data": {
      "text/plain": [
       "1"
      ]
     },
     "execution_count": 19,
     "metadata": {},
     "output_type": "execute_result"
    }
   ],
   "source": [
    "a[0]"
   ]
  },
  {
   "cell_type": "code",
   "execution_count": 21,
   "id": "e76b3848-6289-4aa9-a475-ba1c6eef53e6",
   "metadata": {},
   "outputs": [
    {
     "data": {
      "text/plain": [
       "8"
      ]
     },
     "execution_count": 21,
     "metadata": {},
     "output_type": "execute_result"
    }
   ],
   "source": [
    "a[-1]"
   ]
  },
  {
   "cell_type": "code",
   "execution_count": 23,
   "id": "dcd135f4-966b-42e0-84d0-8dd557fe4745",
   "metadata": {},
   "outputs": [],
   "source": [
    "a[0] = 100"
   ]
  },
  {
   "cell_type": "code",
   "execution_count": 25,
   "id": "7e90ec4a-ce51-4011-9263-fe76c1ba10b6",
   "metadata": {},
   "outputs": [
    {
     "data": {
      "text/plain": [
       "array([100,   8,   8,   7,   9,   4,   5,   0,   1,   8])"
      ]
     },
     "execution_count": 25,
     "metadata": {},
     "output_type": "execute_result"
    }
   ],
   "source": [
    "a"
   ]
  },
  {
   "cell_type": "code",
   "execution_count": 27,
   "id": "85269599-0018-47c0-b6c2-c422d623bd83",
   "metadata": {},
   "outputs": [],
   "source": [
    "m = np.random.randint(10, size= (3,5))"
   ]
  },
  {
   "cell_type": "code",
   "execution_count": 29,
   "id": "dc135686-eb1c-444d-8847-ee70b104c1a4",
   "metadata": {},
   "outputs": [
    {
     "data": {
      "text/plain": [
       "array([[9, 4, 0, 3, 2],\n",
       "       [7, 0, 3, 8, 5],\n",
       "       [3, 0, 8, 1, 2]])"
      ]
     },
     "execution_count": 29,
     "metadata": {},
     "output_type": "execute_result"
    }
   ],
   "source": [
    "m"
   ]
  },
  {
   "cell_type": "code",
   "execution_count": 31,
   "id": "7f42f6c6-794e-4c36-ab00-2470bf98e46b",
   "metadata": {},
   "outputs": [
    {
     "data": {
      "text/plain": [
       "9"
      ]
     },
     "execution_count": 31,
     "metadata": {},
     "output_type": "execute_result"
    }
   ],
   "source": [
    "m[0,0]"
   ]
  },
  {
   "cell_type": "code",
   "execution_count": 33,
   "id": "7478498b-6161-47a8-ad03-744f987bac21",
   "metadata": {},
   "outputs": [],
   "source": [
    "m[0,0] = 2.2"
   ]
  },
  {
   "cell_type": "code",
   "execution_count": 35,
   "id": "a87355cc-4e95-4e92-8e2b-7ce58bb2277c",
   "metadata": {},
   "outputs": [
    {
     "data": {
      "text/plain": [
       "array([[2, 4, 0, 3, 2],\n",
       "       [7, 0, 3, 8, 5],\n",
       "       [3, 0, 8, 1, 2]])"
      ]
     },
     "execution_count": 35,
     "metadata": {},
     "output_type": "execute_result"
    }
   ],
   "source": [
    "m"
   ]
  },
  {
   "cell_type": "markdown",
   "id": "e9714efa-c450-4939-b11a-1442fac7cef2",
   "metadata": {},
   "source": [
    "**Slicing ile elemanlara erişmek(array alt kümesine erişmek)**"
   ]
  },
  {
   "cell_type": "code",
   "execution_count": 42,
   "id": "3819e913-8d06-47ff-b4ff-bbe813431c4f",
   "metadata": {},
   "outputs": [],
   "source": [
    "import numpy as np"
   ]
  },
  {
   "cell_type": "code",
   "execution_count": 44,
   "id": "d7d03fca-072c-4233-bb9c-579edb149236",
   "metadata": {},
   "outputs": [],
   "source": [
    "a = np.arange(20,30)"
   ]
  },
  {
   "cell_type": "code",
   "execution_count": 46,
   "id": "c482eb5d-8ff7-49c3-b7af-2c109ce26100",
   "metadata": {},
   "outputs": [
    {
     "data": {
      "text/plain": [
       "array([20, 21, 22, 23, 24, 25, 26, 27, 28, 29])"
      ]
     },
     "execution_count": 46,
     "metadata": {},
     "output_type": "execute_result"
    }
   ],
   "source": [
    "a"
   ]
  },
  {
   "cell_type": "code",
   "execution_count": 48,
   "id": "f2c30f4e-2c51-4a6a-b283-1345af32a34b",
   "metadata": {},
   "outputs": [
    {
     "data": {
      "text/plain": [
       "array([20, 21, 22])"
      ]
     },
     "execution_count": 48,
     "metadata": {},
     "output_type": "execute_result"
    }
   ],
   "source": [
    "a[0:3]"
   ]
  },
  {
   "cell_type": "code",
   "execution_count": 50,
   "id": "8e37f9f9-c83c-4706-a859-3c25bd3795c9",
   "metadata": {},
   "outputs": [
    {
     "data": {
      "text/plain": [
       "array([20, 21, 22])"
      ]
     },
     "execution_count": 50,
     "metadata": {},
     "output_type": "execute_result"
    }
   ],
   "source": [
    "a[:3]"
   ]
  },
  {
   "cell_type": "code",
   "execution_count": 52,
   "id": "e63d1dae-123a-4406-8c84-ed749140d125",
   "metadata": {},
   "outputs": [
    {
     "data": {
      "text/plain": [
       "array([23, 24, 25, 26, 27, 28, 29])"
      ]
     },
     "execution_count": 52,
     "metadata": {},
     "output_type": "execute_result"
    }
   ],
   "source": [
    "a[3:]"
   ]
  },
  {
   "cell_type": "code",
   "execution_count": 54,
   "id": "a3269ceb-5cba-4e84-b7f4-b874d01b48da",
   "metadata": {},
   "outputs": [
    {
     "data": {
      "text/plain": [
       "array([20, 22, 24, 26, 28])"
      ]
     },
     "execution_count": 54,
     "metadata": {},
     "output_type": "execute_result"
    }
   ],
   "source": [
    "a[0::2]"
   ]
  },
  {
   "cell_type": "code",
   "execution_count": 56,
   "id": "d64f28f6-3bfc-4de0-bf2b-8f0d7b7e08a1",
   "metadata": {},
   "outputs": [
    {
     "data": {
      "text/plain": [
       "array([22, 24, 26, 28])"
      ]
     },
     "execution_count": 56,
     "metadata": {},
     "output_type": "execute_result"
    }
   ],
   "source": [
    "a[2::2]"
   ]
  },
  {
   "cell_type": "code",
   "execution_count": 58,
   "id": "7a950091-0caf-4b78-abc1-19b63bfba2ac",
   "metadata": {},
   "outputs": [],
   "source": [
    "#2 boyutlu slice işlemleri"
   ]
  },
  {
   "cell_type": "code",
   "execution_count": 60,
   "id": "a9f5956f-b327-483d-be13-d85ed888f4d7",
   "metadata": {},
   "outputs": [],
   "source": [
    "m = np.random.randint(10, size=(5,5))"
   ]
  },
  {
   "cell_type": "code",
   "execution_count": 62,
   "id": "1824d7f5-4678-44f0-a50a-a7024d12047c",
   "metadata": {},
   "outputs": [
    {
     "data": {
      "text/plain": [
       "array([[4, 7, 8, 9, 1],\n",
       "       [7, 2, 4, 7, 5],\n",
       "       [4, 9, 8, 0, 8],\n",
       "       [3, 6, 9, 4, 0],\n",
       "       [7, 2, 3, 1, 0]])"
      ]
     },
     "execution_count": 62,
     "metadata": {},
     "output_type": "execute_result"
    }
   ],
   "source": [
    "m"
   ]
  },
  {
   "cell_type": "code",
   "execution_count": 64,
   "id": "7cd5458c-3ad5-48e5-90d3-030be69b403f",
   "metadata": {},
   "outputs": [
    {
     "data": {
      "text/plain": [
       "array([4, 7, 4, 3, 7])"
      ]
     },
     "execution_count": 64,
     "metadata": {},
     "output_type": "execute_result"
    }
   ],
   "source": [
    "m[:,0]"
   ]
  },
  {
   "cell_type": "code",
   "execution_count": 66,
   "id": "b3b4bfe8-f45b-4c83-b7f0-418b4d06f3a0",
   "metadata": {},
   "outputs": [
    {
     "data": {
      "text/plain": [
       "array([4, 7, 8, 9, 1])"
      ]
     },
     "execution_count": 66,
     "metadata": {},
     "output_type": "execute_result"
    }
   ],
   "source": [
    "m[0,:]"
   ]
  },
  {
   "cell_type": "code",
   "execution_count": 68,
   "id": "099b07db-cad1-4b12-bbdb-7c080a3eb062",
   "metadata": {},
   "outputs": [
    {
     "data": {
      "text/plain": [
       "array([4, 7, 8, 9, 1])"
      ]
     },
     "execution_count": 68,
     "metadata": {},
     "output_type": "execute_result"
    }
   ],
   "source": [
    "m[0]"
   ]
  },
  {
   "cell_type": "code",
   "execution_count": 72,
   "id": "0bb6b5a9-f0cc-4e3e-821c-9b5fad7967c1",
   "metadata": {},
   "outputs": [
    {
     "data": {
      "text/plain": [
       "array([7, 2, 4, 7, 5])"
      ]
     },
     "execution_count": 72,
     "metadata": {},
     "output_type": "execute_result"
    }
   ],
   "source": [
    "m[1,:]"
   ]
  },
  {
   "cell_type": "code",
   "execution_count": 74,
   "id": "8f7d4406-20ff-4078-9221-aeb9bf681a71",
   "metadata": {},
   "outputs": [
    {
     "data": {
      "text/plain": [
       "array([[4, 7, 8],\n",
       "       [7, 2, 4]])"
      ]
     },
     "execution_count": 74,
     "metadata": {},
     "output_type": "execute_result"
    }
   ],
   "source": [
    "m[0:2, 0:3]\n",
    "\n"
   ]
  },
  {
   "cell_type": "code",
   "execution_count": 78,
   "id": "6aaf57f8-faf4-416b-a255-170e581f87f7",
   "metadata": {},
   "outputs": [
    {
     "data": {
      "text/plain": [
       "array([[4, 7],\n",
       "       [7, 2],\n",
       "       [4, 9],\n",
       "       [3, 6],\n",
       "       [7, 2]])"
      ]
     },
     "execution_count": 78,
     "metadata": {},
     "output_type": "execute_result"
    }
   ],
   "source": [
    "m[:, 0:2]"
   ]
  },
  {
   "cell_type": "code",
   "execution_count": 80,
   "id": "c56c2279-d31a-4bba-810b-5721aa1676dc",
   "metadata": {},
   "outputs": [
    {
     "data": {
      "text/plain": [
       "array([[7, 2],\n",
       "       [4, 9]])"
      ]
     },
     "execution_count": 80,
     "metadata": {},
     "output_type": "execute_result"
    }
   ],
   "source": [
    "m[1:3, 0:2]"
   ]
  },
  {
   "cell_type": "markdown",
   "id": "513011cc-01ae-4162-9045-824d32ca72ce",
   "metadata": {},
   "source": [
    "**Alt küme üzerinde işlem yapmak**"
   ]
  },
  {
   "cell_type": "code",
   "execution_count": 84,
   "id": "3ba23a0e-b7eb-42d1-9ab7-e9a15346a65a",
   "metadata": {},
   "outputs": [],
   "source": [
    "import numpy as np"
   ]
  },
  {
   "cell_type": "code",
   "execution_count": 86,
   "id": "6d3cb1b8-d921-4ea6-abe5-ac573a7b9365",
   "metadata": {},
   "outputs": [],
   "source": [
    "a = np.random.randint(10, size=(5,5))"
   ]
  },
  {
   "cell_type": "code",
   "execution_count": 88,
   "id": "9cfbfd2e-6bd8-41ff-866b-160304d07cc3",
   "metadata": {},
   "outputs": [
    {
     "data": {
      "text/plain": [
       "array([[8, 8, 0, 8, 6],\n",
       "       [1, 4, 4, 3, 2],\n",
       "       [5, 5, 8, 9, 2],\n",
       "       [7, 8, 5, 6, 5],\n",
       "       [5, 8, 4, 0, 9]])"
      ]
     },
     "execution_count": 88,
     "metadata": {},
     "output_type": "execute_result"
    }
   ],
   "source": [
    "a"
   ]
  },
  {
   "cell_type": "code",
   "execution_count": 94,
   "id": "30816c09-1800-4ff2-a5a1-439771fc44d7",
   "metadata": {},
   "outputs": [],
   "source": [
    "#alt kümeleri bağımsızlaştırmak gerekebilir"
   ]
  },
  {
   "cell_type": "code",
   "execution_count": 96,
   "id": "d9f682ff-3cba-4328-84cd-c4101ec65baf",
   "metadata": {},
   "outputs": [],
   "source": [
    "alt_a = a[0:3, 0:2]"
   ]
  },
  {
   "cell_type": "code",
   "execution_count": 100,
   "id": "392aed2a-e1a9-4177-9e15-7c90612ce5ee",
   "metadata": {},
   "outputs": [
    {
     "data": {
      "text/plain": [
       "array([[8, 8],\n",
       "       [1, 4],\n",
       "       [5, 5]])"
      ]
     },
     "execution_count": 100,
     "metadata": {},
     "output_type": "execute_result"
    }
   ],
   "source": [
    "alt_a"
   ]
  },
  {
   "cell_type": "code",
   "execution_count": 102,
   "id": "7498be2c-a361-4d68-b362-40e6ff712e04",
   "metadata": {},
   "outputs": [],
   "source": [
    "alt_a[0,0] = 99999\n",
    "alt_a[1,1] = 888"
   ]
  },
  {
   "cell_type": "code",
   "execution_count": 104,
   "id": "e3713bee-b050-48c3-b9d3-114107dbff7b",
   "metadata": {},
   "outputs": [
    {
     "data": {
      "text/plain": [
       "array([[99999,     8],\n",
       "       [    1,   888],\n",
       "       [    5,     5]])"
      ]
     },
     "execution_count": 104,
     "metadata": {},
     "output_type": "execute_result"
    }
   ],
   "source": [
    "alt_a"
   ]
  },
  {
   "cell_type": "code",
   "execution_count": 106,
   "id": "6aa53f69-70ea-4959-9286-0ca623c25abb",
   "metadata": {},
   "outputs": [
    {
     "data": {
      "text/plain": [
       "array([[99999,     8,     0,     8,     6],\n",
       "       [    1,   888,     4,     3,     2],\n",
       "       [    5,     5,     8,     9,     2],\n",
       "       [    7,     8,     5,     6,     5],\n",
       "       [    5,     8,     4,     0,     9]])"
      ]
     },
     "execution_count": 106,
     "metadata": {},
     "output_type": "execute_result"
    }
   ],
   "source": [
    "a"
   ]
  },
  {
   "cell_type": "code",
   "execution_count": 118,
   "id": "ee1c5da8-1c40-46b8-a9d2-1fd17a657b04",
   "metadata": {},
   "outputs": [],
   "source": [
    "b = np.random.randint(10, size=(5,5))"
   ]
  },
  {
   "cell_type": "code",
   "execution_count": 120,
   "id": "73b51136-9be6-460b-8d7e-ca0b45d82f42",
   "metadata": {},
   "outputs": [],
   "source": [
    "alt_b = m[0:3, 0:2].copy()"
   ]
  },
  {
   "cell_type": "code",
   "execution_count": 122,
   "id": "ea599ed6-623a-4f47-ad48-607f9727cbb9",
   "metadata": {},
   "outputs": [
    {
     "data": {
      "text/plain": [
       "array([[5, 7],\n",
       "       [1, 9],\n",
       "       [5, 0]])"
      ]
     },
     "execution_count": 122,
     "metadata": {},
     "output_type": "execute_result"
    }
   ],
   "source": [
    "alt_b"
   ]
  },
  {
   "cell_type": "code",
   "execution_count": 124,
   "id": "15cabded-6784-40a4-bd55-39a076d6f65e",
   "metadata": {},
   "outputs": [],
   "source": [
    "alt_b[0,0] = 99"
   ]
  },
  {
   "cell_type": "code",
   "execution_count": 126,
   "id": "ce33b7e4-0d56-45fa-932d-dd680932c81d",
   "metadata": {},
   "outputs": [
    {
     "data": {
      "text/plain": [
       "array([[99,  7],\n",
       "       [ 1,  9],\n",
       "       [ 5,  0]])"
      ]
     },
     "execution_count": 126,
     "metadata": {},
     "output_type": "execute_result"
    }
   ],
   "source": [
    "alt_b"
   ]
  },
  {
   "cell_type": "code",
   "execution_count": 128,
   "id": "50c1cc0b-fe4b-4171-8cfa-dae14e6d375e",
   "metadata": {},
   "outputs": [
    {
     "data": {
      "text/plain": [
       "array([[9, 8, 4, 6, 1],\n",
       "       [0, 3, 5, 0, 9],\n",
       "       [2, 2, 1, 4, 4],\n",
       "       [7, 8, 6, 8, 7],\n",
       "       [4, 3, 9, 0, 3]])"
      ]
     },
     "execution_count": 128,
     "metadata": {},
     "output_type": "execute_result"
    }
   ],
   "source": [
    "b"
   ]
  },
  {
   "cell_type": "markdown",
   "id": "a8575ccf-3d95-4b48-b375-9e5d0404c496",
   "metadata": {},
   "source": [
    "**Fancy index ile elemanlara erişmek**"
   ]
  },
  {
   "cell_type": "code",
   "execution_count": 131,
   "id": "809c8f50-dcc1-40b1-9741-525bcb92710e",
   "metadata": {},
   "outputs": [],
   "source": [
    "import numpy as np"
   ]
  },
  {
   "cell_type": "code",
   "execution_count": 135,
   "id": "d92eee59-07fa-42cf-97f4-ee1e4af2f8ef",
   "metadata": {},
   "outputs": [
    {
     "data": {
      "text/plain": [
       "array([ 0,  3,  6,  9, 12, 15, 18, 21, 24, 27])"
      ]
     },
     "execution_count": 135,
     "metadata": {},
     "output_type": "execute_result"
    }
   ],
   "source": [
    "v = np.arange(0, 30, 3)\n",
    "v"
   ]
  },
  {
   "cell_type": "code",
   "execution_count": 137,
   "id": "6dbfe86e-57e4-4dc2-8cd9-e3a50b52e5f3",
   "metadata": {},
   "outputs": [
    {
     "data": {
      "text/plain": [
       "3"
      ]
     },
     "execution_count": 137,
     "metadata": {},
     "output_type": "execute_result"
    }
   ],
   "source": [
    "v[1]"
   ]
  },
  {
   "cell_type": "code",
   "execution_count": 139,
   "id": "38b990f5-7469-4557-bfc9-7a71f73e97d4",
   "metadata": {},
   "outputs": [
    {
     "data": {
      "text/plain": [
       "9"
      ]
     },
     "execution_count": 139,
     "metadata": {},
     "output_type": "execute_result"
    }
   ],
   "source": [
    "v[3]"
   ]
  },
  {
   "cell_type": "code",
   "execution_count": 141,
   "id": "0e50a7ff-772f-454b-81c0-fa1c1deef42f",
   "metadata": {},
   "outputs": [
    {
     "data": {
      "text/plain": [
       "15"
      ]
     },
     "execution_count": 141,
     "metadata": {},
     "output_type": "execute_result"
    }
   ],
   "source": [
    "v[5]"
   ]
  },
  {
   "cell_type": "code",
   "execution_count": 143,
   "id": "039a3263-0771-43b1-b46e-c883ee3018f6",
   "metadata": {},
   "outputs": [
    {
     "data": {
      "text/plain": [
       "[3, 9, 15]"
      ]
     },
     "execution_count": 143,
     "metadata": {},
     "output_type": "execute_result"
    }
   ],
   "source": [
    "[v[1], v[3], v[5]]"
   ]
  },
  {
   "cell_type": "code",
   "execution_count": 145,
   "id": "b0100069-b8cb-4d88-8815-f58f2272f546",
   "metadata": {},
   "outputs": [],
   "source": [
    "#eğer elimde yüzlerce index bilgisi olsa ve ben bunları yakalamak istesem;"
   ]
  },
  {
   "cell_type": "code",
   "execution_count": 147,
   "id": "3ce604e9-63c2-4d1a-b6f5-04b8905dc807",
   "metadata": {},
   "outputs": [],
   "source": [
    "al_getir = [1,3,5]"
   ]
  },
  {
   "cell_type": "code",
   "execution_count": 151,
   "id": "e3d71869-93b8-4f31-8abb-20cc3971d0ef",
   "metadata": {},
   "outputs": [
    {
     "data": {
      "text/plain": [
       "array([ 3,  9, 15])"
      ]
     },
     "execution_count": 151,
     "metadata": {},
     "output_type": "execute_result"
    }
   ],
   "source": [
    "v[al_getir]"
   ]
  },
  {
   "cell_type": "code",
   "execution_count": 155,
   "id": "a4b3443e-521d-4192-986a-f5b3675438c4",
   "metadata": {},
   "outputs": [
    {
     "data": {
      "text/plain": [
       "array([ 0,  6, 12])"
      ]
     },
     "execution_count": 155,
     "metadata": {},
     "output_type": "execute_result"
    }
   ],
   "source": [
    "v[[0,2,4]]"
   ]
  },
  {
   "cell_type": "code",
   "execution_count": 157,
   "id": "d8ff228a-a3c1-4072-958b-86aff370f1fa",
   "metadata": {},
   "outputs": [],
   "source": [
    "#2 boyutta fancy"
   ]
  },
  {
   "cell_type": "code",
   "execution_count": 159,
   "id": "f1ed6f78-9b84-4cbb-966c-2d155c6699d8",
   "metadata": {},
   "outputs": [],
   "source": [
    "m = np.arange(9).reshape(3,3)"
   ]
  },
  {
   "cell_type": "code",
   "execution_count": 161,
   "id": "f7e2d4eb-37b1-4295-87be-4470a0a262f1",
   "metadata": {},
   "outputs": [
    {
     "data": {
      "text/plain": [
       "array([[0, 1, 2],\n",
       "       [3, 4, 5],\n",
       "       [6, 7, 8]])"
      ]
     },
     "execution_count": 161,
     "metadata": {},
     "output_type": "execute_result"
    }
   ],
   "source": [
    "m"
   ]
  },
  {
   "cell_type": "code",
   "execution_count": 163,
   "id": "8758dc4b-8256-45eb-ab21-d8052291e4e7",
   "metadata": {},
   "outputs": [],
   "source": [
    "row = np.array([0,1])\n",
    "column = np.array([1,2])"
   ]
  },
  {
   "cell_type": "code",
   "execution_count": 165,
   "id": "bf3405fe-e411-4656-85b5-e64a018e4f48",
   "metadata": {},
   "outputs": [
    {
     "data": {
      "text/plain": [
       "array([1, 5])"
      ]
     },
     "execution_count": 165,
     "metadata": {},
     "output_type": "execute_result"
    }
   ],
   "source": [
    "m[row, column]"
   ]
  },
  {
   "cell_type": "code",
   "execution_count": 167,
   "id": "db84df5a-225d-4879-be8f-f59f7aac3fd4",
   "metadata": {},
   "outputs": [],
   "source": [
    "#basit index ile fancy index birlikte"
   ]
  },
  {
   "cell_type": "code",
   "execution_count": 169,
   "id": "e77696bb-8054-45c2-8004-e5d902173ff5",
   "metadata": {},
   "outputs": [
    {
     "data": {
      "text/plain": [
       "array([[0, 1, 2],\n",
       "       [3, 4, 5],\n",
       "       [6, 7, 8]])"
      ]
     },
     "execution_count": 169,
     "metadata": {},
     "output_type": "execute_result"
    }
   ],
   "source": [
    "m"
   ]
  },
  {
   "cell_type": "code",
   "execution_count": 171,
   "id": "da4aa222-af81-4f2f-97b3-95b7491c494e",
   "metadata": {},
   "outputs": [
    {
     "data": {
      "text/plain": [
       "array([1, 2])"
      ]
     },
     "execution_count": 171,
     "metadata": {},
     "output_type": "execute_result"
    }
   ],
   "source": [
    "m[0, [1,2]]"
   ]
  },
  {
   "cell_type": "code",
   "execution_count": 173,
   "id": "7e2750bd-c13d-4ce9-823f-7938cd394b56",
   "metadata": {},
   "outputs": [],
   "source": [
    "#slice"
   ]
  },
  {
   "cell_type": "code",
   "execution_count": 175,
   "id": "9a96dece-f43e-44f8-889a-5eb0eac81e73",
   "metadata": {},
   "outputs": [
    {
     "data": {
      "text/plain": [
       "array([[1, 2],\n",
       "       [4, 5],\n",
       "       [7, 8]])"
      ]
     },
     "execution_count": 175,
     "metadata": {},
     "output_type": "execute_result"
    }
   ],
   "source": [
    "m[0:, [1,2]]"
   ]
  },
  {
   "cell_type": "markdown",
   "id": "ddc66790-ce8c-40c8-9ce1-5bb5f502eb4a",
   "metadata": {},
   "source": [
    "**Koşullu eleman işlemleri**"
   ]
  },
  {
   "cell_type": "code",
   "execution_count": 186,
   "id": "53ab1170-5b74-4b7c-8941-921430a9407b",
   "metadata": {},
   "outputs": [],
   "source": [
    "import numpy as np\n",
    "v = np.array([1,2,3,4,1])"
   ]
  },
  {
   "cell_type": "code",
   "execution_count": 188,
   "id": "930f58b5-a46c-4d46-99b2-911640c2b9d8",
   "metadata": {},
   "outputs": [
    {
     "data": {
      "text/plain": [
       "array([False, False, False,  True, False])"
      ]
     },
     "execution_count": 188,
     "metadata": {},
     "output_type": "execute_result"
    }
   ],
   "source": [
    "v >3"
   ]
  },
  {
   "cell_type": "code",
   "execution_count": 190,
   "id": "1e0988c7-72ff-449c-b526-3deb01c8b30c",
   "metadata": {},
   "outputs": [
    {
     "data": {
      "text/plain": [
       "array([1, 2, 1])"
      ]
     },
     "execution_count": 190,
     "metadata": {},
     "output_type": "execute_result"
    }
   ],
   "source": [
    "v[v<3]"
   ]
  },
  {
   "cell_type": "code",
   "execution_count": 192,
   "id": "a7f763fd-a7ab-489f-b576-05bce1e7a153",
   "metadata": {},
   "outputs": [
    {
     "data": {
      "text/plain": [
       "array([2, 4, 6, 8, 2])"
      ]
     },
     "execution_count": 192,
     "metadata": {},
     "output_type": "execute_result"
    }
   ],
   "source": [
    "v *2"
   ]
  },
  {
   "cell_type": "code",
   "execution_count": 194,
   "id": "955a6e5c-0132-4d4c-b9f7-6a329ed1fc1a",
   "metadata": {},
   "outputs": [
    {
     "data": {
      "text/plain": [
       "array([0.2, 0.4, 0.6, 0.8, 0.2])"
      ]
     },
     "execution_count": 194,
     "metadata": {},
     "output_type": "execute_result"
    }
   ],
   "source": [
    "v /5"
   ]
  },
  {
   "cell_type": "code",
   "execution_count": 196,
   "id": "afb7f266-1558-4412-8194-0827e2cff24f",
   "metadata": {},
   "outputs": [
    {
     "data": {
      "text/plain": [
       "array([0.5, 1. , 1.5, 2. , 0.5])"
      ]
     },
     "execution_count": 196,
     "metadata": {},
     "output_type": "execute_result"
    }
   ],
   "source": [
    "v*5/10"
   ]
  },
  {
   "cell_type": "code",
   "execution_count": 198,
   "id": "5a66e9ee-72df-4272-b482-9c652f30984d",
   "metadata": {},
   "outputs": [
    {
     "data": {
      "text/plain": [
       "array([ 1,  4,  9, 16,  1])"
      ]
     },
     "execution_count": 198,
     "metadata": {},
     "output_type": "execute_result"
    }
   ],
   "source": [
    "v**2"
   ]
  },
  {
   "cell_type": "markdown",
   "id": "5de8d61f-04c6-4a8c-b1bf-4a65567b70d4",
   "metadata": {},
   "source": [
    "### **Matematiksel işlemler**"
   ]
  },
  {
   "cell_type": "code",
   "execution_count": 205,
   "id": "d18b27c8-47fb-46b4-a7b3-17feef266442",
   "metadata": {},
   "outputs": [],
   "source": [
    "import numpy as np"
   ]
  },
  {
   "cell_type": "code",
   "execution_count": 207,
   "id": "6c0bfdd1-ce89-4c8c-8734-ca55bc762baf",
   "metadata": {},
   "outputs": [],
   "source": [
    "v = np.array([1,2,3,4,5])"
   ]
  },
  {
   "cell_type": "code",
   "execution_count": 209,
   "id": "0a2c6b36-4551-4598-8723-ddaaf03fb421",
   "metadata": {},
   "outputs": [
    {
     "data": {
      "text/plain": [
       "array([-1,  0,  1,  2,  3])"
      ]
     },
     "execution_count": 209,
     "metadata": {},
     "output_type": "execute_result"
    }
   ],
   "source": [
    "v-2"
   ]
  },
  {
   "cell_type": "code",
   "execution_count": 211,
   "id": "1f5ce930-a6d3-470d-850a-f4f9720a7e30",
   "metadata": {},
   "outputs": [
    {
     "data": {
      "text/plain": [
       "array([ 5, 10, 15, 20, 25])"
      ]
     },
     "execution_count": 211,
     "metadata": {},
     "output_type": "execute_result"
    }
   ],
   "source": [
    "v*5"
   ]
  },
  {
   "cell_type": "code",
   "execution_count": 213,
   "id": "453647e4-3678-4ee3-a547-0a405dfe9689",
   "metadata": {},
   "outputs": [
    {
     "data": {
      "text/plain": [
       "array([-0.75, -0.5 , -0.25,  0.  ,  0.25])"
      ]
     },
     "execution_count": 213,
     "metadata": {},
     "output_type": "execute_result"
    }
   ],
   "source": [
    "v*5/20-1"
   ]
  },
  {
   "cell_type": "code",
   "execution_count": 215,
   "id": "4c25ecb2-7a5e-48c5-b342-b357eff7f614",
   "metadata": {},
   "outputs": [],
   "source": [
    "#ufunc"
   ]
  },
  {
   "cell_type": "code",
   "execution_count": 219,
   "id": "b2e7007d-c648-4abd-94fa-7fb481a32192",
   "metadata": {},
   "outputs": [
    {
     "data": {
      "text/plain": [
       "array([0, 1, 2, 3, 4])"
      ]
     },
     "execution_count": 219,
     "metadata": {},
     "output_type": "execute_result"
    }
   ],
   "source": [
    "np.subtract(v,1)"
   ]
  },
  {
   "cell_type": "code",
   "execution_count": 221,
   "id": "757c7956-1859-4ffa-9da3-5f997d7fa259",
   "metadata": {},
   "outputs": [
    {
     "data": {
      "text/plain": [
       "array([0.5, 1. , 1.5, 2. , 2.5])"
      ]
     },
     "execution_count": 221,
     "metadata": {},
     "output_type": "execute_result"
    }
   ],
   "source": [
    "np.divide(v, 2)"
   ]
  },
  {
   "cell_type": "code",
   "execution_count": 225,
   "id": "ec3890cf-88e3-45f2-b1d4-49a910c7e326",
   "metadata": {},
   "outputs": [
    {
     "data": {
      "text/plain": [
       "array([  1,   8,  27,  64, 125], dtype=int32)"
      ]
     },
     "execution_count": 225,
     "metadata": {},
     "output_type": "execute_result"
    }
   ],
   "source": [
    "v**3"
   ]
  },
  {
   "cell_type": "code",
   "execution_count": 227,
   "id": "deda815d-ecf8-45b1-98cb-e38385914c84",
   "metadata": {},
   "outputs": [
    {
     "data": {
      "text/plain": [
       "array([  1,   8,  27,  64, 125], dtype=int32)"
      ]
     },
     "execution_count": 227,
     "metadata": {},
     "output_type": "execute_result"
    }
   ],
   "source": [
    "np.power(v,3)"
   ]
  },
  {
   "cell_type": "code",
   "execution_count": 229,
   "id": "de6017ef-f1d3-4ce8-8811-76c0efd88c93",
   "metadata": {},
   "outputs": [
    {
     "data": {
      "text/plain": [
       "array([1, 0, 1, 0, 1], dtype=int32)"
      ]
     },
     "execution_count": 229,
     "metadata": {},
     "output_type": "execute_result"
    }
   ],
   "source": [
    "v%2"
   ]
  },
  {
   "cell_type": "code",
   "execution_count": 233,
   "id": "2bcb38c8-388e-4674-bb8f-05ed6bd55ec6",
   "metadata": {},
   "outputs": [
    {
     "data": {
      "text/plain": [
       "array([1, 0, 1, 0, 1], dtype=int32)"
      ]
     },
     "execution_count": 233,
     "metadata": {},
     "output_type": "execute_result"
    }
   ],
   "source": [
    "np.mod(v,2)"
   ]
  },
  {
   "cell_type": "code",
   "execution_count": 235,
   "id": "872b9a66-d49b-4b8b-9f6e-3dc382308e0e",
   "metadata": {},
   "outputs": [
    {
     "data": {
      "text/plain": [
       "array([3])"
      ]
     },
     "execution_count": 235,
     "metadata": {},
     "output_type": "execute_result"
    }
   ],
   "source": [
    "np.absolute(np.array([-3]))"
   ]
  },
  {
   "cell_type": "code",
   "execution_count": 237,
   "id": "339a6c59-90b0-4360-bf34-8355c01f66a1",
   "metadata": {},
   "outputs": [
    {
     "data": {
      "text/plain": [
       "0.9589157234143065"
      ]
     },
     "execution_count": 237,
     "metadata": {},
     "output_type": "execute_result"
    }
   ],
   "source": [
    "np.sin(360)"
   ]
  },
  {
   "cell_type": "code",
   "execution_count": 239,
   "id": "fe0bcecf-486d-421d-89ff-bd4270c93554",
   "metadata": {},
   "outputs": [
    {
     "data": {
      "text/plain": [
       "-0.5984600690578581"
      ]
     },
     "execution_count": 239,
     "metadata": {},
     "output_type": "execute_result"
    }
   ],
   "source": [
    "np.cos(180)"
   ]
  },
  {
   "cell_type": "code",
   "execution_count": 241,
   "id": "5184a0d5-9b84-4bec-a86e-5f54e0b1d4af",
   "metadata": {},
   "outputs": [],
   "source": [
    "v = np.array([1,2,3])"
   ]
  },
  {
   "cell_type": "code",
   "execution_count": 243,
   "id": "c220c221-1c78-4ccd-a3ab-3092944ef7b5",
   "metadata": {},
   "outputs": [
    {
     "data": {
      "text/plain": [
       "array([0.        , 0.69314718, 1.09861229])"
      ]
     },
     "execution_count": 243,
     "metadata": {},
     "output_type": "execute_result"
    }
   ],
   "source": [
    "np.log(v)"
   ]
  },
  {
   "cell_type": "code",
   "execution_count": 245,
   "id": "c4b236ab-eb96-4751-b0d9-37a4b26e2ad2",
   "metadata": {},
   "outputs": [
    {
     "data": {
      "text/plain": [
       "array([0.       , 1.       , 1.5849625])"
      ]
     },
     "execution_count": 245,
     "metadata": {},
     "output_type": "execute_result"
    }
   ],
   "source": [
    "np.log2(v)"
   ]
  },
  {
   "cell_type": "code",
   "execution_count": 247,
   "id": "a15c68e2-3a37-423f-9a1e-c29f0d808249",
   "metadata": {},
   "outputs": [
    {
     "data": {
      "text/plain": [
       "array([0.        , 0.30103   , 0.47712125])"
      ]
     },
     "execution_count": 247,
     "metadata": {},
     "output_type": "execute_result"
    }
   ],
   "source": [
    "np.log10(v)"
   ]
  },
  {
   "cell_type": "code",
   "execution_count": 249,
   "id": "e74edf2f-7db8-4f7b-b2bd-97b396eafde7",
   "metadata": {},
   "outputs": [
    {
     "data": {
      "text/plain": [
       "\u001b[1;31mType:\u001b[0m        module\n",
       "\u001b[1;31mString form:\u001b[0m <module 'numpy' from 'C:\\\\Users\\\\acer\\\\anaconda3\\\\Lib\\\\site-packages\\\\numpy\\\\__init__.py'>\n",
       "\u001b[1;31mFile:\u001b[0m        c:\\users\\acer\\anaconda3\\lib\\site-packages\\numpy\\__init__.py\n",
       "\u001b[1;31mDocstring:\u001b[0m  \n",
       "NumPy\n",
       "=====\n",
       "\n",
       "Provides\n",
       "  1. An array object of arbitrary homogeneous items\n",
       "  2. Fast mathematical operations over arrays\n",
       "  3. Linear Algebra, Fourier Transforms, Random Number Generation\n",
       "\n",
       "How to use the documentation\n",
       "----------------------------\n",
       "Documentation is available in two forms: docstrings provided\n",
       "with the code, and a loose standing reference guide, available from\n",
       "`the NumPy homepage <https://numpy.org>`_.\n",
       "\n",
       "We recommend exploring the docstrings using\n",
       "`IPython <https://ipython.org>`_, an advanced Python shell with\n",
       "TAB-completion and introspection capabilities.  See below for further\n",
       "instructions.\n",
       "\n",
       "The docstring examples assume that `numpy` has been imported as ``np``::\n",
       "\n",
       "  >>> import numpy as np\n",
       "\n",
       "Code snippets are indicated by three greater-than signs::\n",
       "\n",
       "  >>> x = 42\n",
       "  >>> x = x + 1\n",
       "\n",
       "Use the built-in ``help`` function to view a function's docstring::\n",
       "\n",
       "  >>> help(np.sort)\n",
       "  ... # doctest: +SKIP\n",
       "\n",
       "For some objects, ``np.info(obj)`` may provide additional help.  This is\n",
       "particularly true if you see the line \"Help on ufunc object:\" at the top\n",
       "of the help() page.  Ufuncs are implemented in C, not Python, for speed.\n",
       "The native Python help() does not know how to view their help, but our\n",
       "np.info() function does.\n",
       "\n",
       "To search for documents containing a keyword, do::\n",
       "\n",
       "  >>> np.lookfor('keyword')\n",
       "  ... # doctest: +SKIP\n",
       "\n",
       "General-purpose documents like a glossary and help on the basic concepts\n",
       "of numpy are available under the ``doc`` sub-module::\n",
       "\n",
       "  >>> from numpy import doc\n",
       "  >>> help(doc)\n",
       "  ... # doctest: +SKIP\n",
       "\n",
       "Available subpackages\n",
       "---------------------\n",
       "lib\n",
       "    Basic functions used by several sub-packages.\n",
       "random\n",
       "    Core Random Tools\n",
       "linalg\n",
       "    Core Linear Algebra Tools\n",
       "fft\n",
       "    Core FFT routines\n",
       "polynomial\n",
       "    Polynomial tools\n",
       "testing\n",
       "    NumPy testing tools\n",
       "distutils\n",
       "    Enhancements to distutils with support for\n",
       "    Fortran compilers support and more  (for Python <= 3.11).\n",
       "\n",
       "Utilities\n",
       "---------\n",
       "test\n",
       "    Run numpy unittests\n",
       "show_config\n",
       "    Show numpy build configuration\n",
       "matlib\n",
       "    Make everything matrices.\n",
       "__version__\n",
       "    NumPy version string\n",
       "\n",
       "Viewing documentation using IPython\n",
       "-----------------------------------\n",
       "\n",
       "Start IPython and import `numpy` usually under the alias ``np``: `import\n",
       "numpy as np`.  Then, directly past or use the ``%cpaste`` magic to paste\n",
       "examples into the shell.  To see which functions are available in `numpy`,\n",
       "type ``np.<TAB>`` (where ``<TAB>`` refers to the TAB key), or use\n",
       "``np.*cos*?<ENTER>`` (where ``<ENTER>`` refers to the ENTER key) to narrow\n",
       "down the list.  To view the docstring for a function, use\n",
       "``np.cos?<ENTER>`` (to view the docstring) and ``np.cos??<ENTER>`` (to view\n",
       "the source code).\n",
       "\n",
       "Copies vs. in-place operation\n",
       "-----------------------------\n",
       "Most of the functions in `numpy` return a copy of the array argument\n",
       "(e.g., `np.sort`).  In-place versions of these functions are often\n",
       "available as array methods, i.e. ``x = np.array([1,2,3]); x.sort()``.\n",
       "Exceptions to this rule are documented."
      ]
     },
     "metadata": {},
     "output_type": "display_data"
    }
   ],
   "source": [
    "?np"
   ]
  },
  {
   "cell_type": "code",
   "execution_count": 251,
   "id": "8203f1b4-6c42-4244-abac-16484b01015c",
   "metadata": {},
   "outputs": [],
   "source": [
    "#cheatsheet kullan"
   ]
  },
  {
   "cell_type": "markdown",
   "id": "0a7b97e4-01db-475d-9d45-690d38b74913",
   "metadata": {},
   "source": [
    "**Numpy ile iki bilinmeyenli denklem çözümü**"
   ]
  },
  {
   "cell_type": "code",
   "execution_count": 256,
   "id": "bc032690-85b5-4420-905b-b3deb53483a7",
   "metadata": {},
   "outputs": [],
   "source": [
    "import numpy as np"
   ]
  },
  {
   "cell_type": "markdown",
   "id": "a39a9a59-932c-4cbf-afbb-8366b1e7149a",
   "metadata": {},
   "source": [
    "5* x0 + x1 = 12\n",
    "x0 + 3*x1 = 10"
   ]
  },
  {
   "cell_type": "code",
   "execution_count": 262,
   "id": "3d10ffb9-212b-4175-a566-5956b189c36c",
   "metadata": {},
   "outputs": [],
   "source": [
    "a = np.array([[5,1],[1,3]])\n",
    "b = np.array([12,10])"
   ]
  },
  {
   "cell_type": "code",
   "execution_count": 265,
   "id": "6197adbb-ccbd-4eef-8825-272bd570d7fa",
   "metadata": {},
   "outputs": [
    {
     "data": {
      "text/plain": [
       "array([[5, 1],\n",
       "       [1, 3]])"
      ]
     },
     "execution_count": 265,
     "metadata": {},
     "output_type": "execute_result"
    }
   ],
   "source": [
    "a"
   ]
  },
  {
   "cell_type": "code",
   "execution_count": 268,
   "id": "3c0647ca-7cc4-442c-8181-279e3df5dd16",
   "metadata": {},
   "outputs": [
    {
     "data": {
      "text/plain": [
       "array([12, 10])"
      ]
     },
     "execution_count": 268,
     "metadata": {},
     "output_type": "execute_result"
    }
   ],
   "source": [
    "b"
   ]
  },
  {
   "cell_type": "code",
   "execution_count": 274,
   "id": "0d2bb61a-226d-4314-8dfb-2b66a3935b6e",
   "metadata": {},
   "outputs": [
    {
     "data": {
      "text/plain": [
       "array([1.85714286, 2.71428571])"
      ]
     },
     "execution_count": 274,
     "metadata": {},
     "output_type": "execute_result"
    }
   ],
   "source": [
    "#lineer cebir işlemleri için özelleştirilmiş alt paketten solve isimli fonksiyonu çağırdık\n",
    "x = np.linalg.solve(a,b)\n",
    "x"
   ]
  },
  {
   "cell_type": "code",
   "execution_count": 291,
   "id": "6b3b6108-92bf-4ab8-91b9-9086d5061f0c",
   "metadata": {},
   "outputs": [],
   "source": [
    "p=5*np.arange(0,10,2)"
   ]
  },
  {
   "cell_type": "code",
   "execution_count": 293,
   "id": "85eba6a5-4114-46e4-9778-1761b6b2dc7f",
   "metadata": {},
   "outputs": [
    {
     "data": {
      "text/plain": [
       "array([ 0, 10, 20, 30, 40])"
      ]
     },
     "execution_count": 293,
     "metadata": {},
     "output_type": "execute_result"
    }
   ],
   "source": [
    "p"
   ]
  },
  {
   "cell_type": "code",
   "execution_count": 287,
   "id": "451f9e64-9b67-4c39-be5a-66ac6005f031",
   "metadata": {},
   "outputs": [
    {
     "data": {
      "text/plain": [
       "6"
      ]
     },
     "execution_count": 287,
     "metadata": {},
     "output_type": "execute_result"
    }
   ],
   "source": [
    "p[-2]"
   ]
  },
  {
   "cell_type": "code",
   "execution_count": null,
   "id": "8e3d19e7-c47f-46b7-bf2c-ff8d9e11b338",
   "metadata": {},
   "outputs": [],
   "source": []
  }
 ],
 "metadata": {
  "kernelspec": {
   "display_name": "Python [conda env:base] *",
   "language": "python",
   "name": "conda-base-py"
  },
  "language_info": {
   "codemirror_mode": {
    "name": "ipython",
    "version": 3
   },
   "file_extension": ".py",
   "mimetype": "text/x-python",
   "name": "python",
   "nbconvert_exporter": "python",
   "pygments_lexer": "ipython3",
   "version": "3.12.4"
  }
 },
 "nbformat": 4,
 "nbformat_minor": 5
}
